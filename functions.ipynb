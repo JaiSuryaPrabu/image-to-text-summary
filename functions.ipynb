{
 "cells": [
  {
   "cell_type": "code",
   "execution_count": 102,
   "metadata": {},
   "outputs": [],
   "source": [
    "import numpy as np \n",
    "import pandas as pd\n",
    "import re \n",
    "import string\n",
    "import nltk \n",
    "from nltk.corpus import stopwords \n",
    "from nltk.stem import WordNetLemmatizer"
   ]
  },
  {
   "cell_type": "code",
   "execution_count": 103,
   "metadata": {},
   "outputs": [],
   "source": [
    "para = \"This is a! sample paragraph for preprocessing! It has some typos (like liek) and informal language (gonna). There are also some emojis () and web abbreviations (IMHO).  It even includes a URL (https://www.example.com) and some slang (wicked cool).  This text needs cleaning up before it can be used for further analysis!\""
   ]
  },
  {
   "cell_type": "code",
   "execution_count": 104,
   "metadata": {},
   "outputs": [],
   "source": [
    "def low_case(text):\n",
    "    return text.lower()"
   ]
  },
  {
   "cell_type": "code",
   "execution_count": 106,
   "metadata": {},
   "outputs": [],
   "source": [
    "def remove_url(para):\n",
    "    re_url = re.compile('https?://\\S+|www\\.\\S+')\n",
    "    return re_url.sub('',para)"
   ]
  },
  {
   "cell_type": "code",
   "execution_count": 108,
   "metadata": {},
   "outputs": [],
   "source": [
    "exclude = string.punctuation\n",
    "def remove_punc(para):\n",
    "    return para.translate(str.maketrans('', '', exclude))"
   ]
  },
  {
   "cell_type": "code",
   "execution_count": 110,
   "metadata": {},
   "outputs": [],
   "source": [
    "from nltk.tokenize import word_tokenize\n",
    "import nltk\n",
    "\n",
    "def tokenize_paragraph(para):\n",
    "  nltk.download('punkt')\n",
    "  sentences = nltk.sent_tokenize(para)\n",
    "  tokens = []\n",
    "  for sentence in sentences: # Iterate over sentences (if sentence tokenization is used)\n",
    "    tokens.extend(nltk.word_tokenize(sentence))\n",
    "\n",
    "  return tokens\n"
   ]
  },
  {
   "cell_type": "code",
   "execution_count": 113,
   "metadata": {},
   "outputs": [],
   "source": [
    "stop_words = set(stopwords.words('english'))\n",
    "words = [word for word in para if word not in stop_words]\n",
    "words  = [word.strip(string.punctuation) for word in para if word not in stop_words]\n",
    "words = [word for word in words if word != '']\n"
   ]
  },
  {
   "cell_type": "code",
   "execution_count": 119,
   "metadata": {},
   "outputs": [
    {
     "name": "stdout",
     "output_type": "stream",
     "text": [
      "['sample', 'paragraph', 'preprocessing', 'typo', 'like', 'liek', 'informal', 'language', 'gon', 'na', 'also', 'emojis', 'web', 'abbreviation', 'imho', 'even', 'includes', 'url', 'slang', 'wicked', 'cool', 'text', 'need', 'cleaning', 'used', 'analysis']\n"
     ]
    }
   ],
   "source": [
    "lem_obj = WordNetLemmatizer()\n",
    "lem = [lem_obj.lemmatize(word) for word in words]  \n",
    "print(lem)\n"
   ]
  }
 ],
 "metadata": {
  "kernelspec": {
   "display_name": "Python 3",
   "language": "python",
   "name": "python3"
  },
  "language_info": {
   "codemirror_mode": {
    "name": "ipython",
    "version": 3
   },
   "file_extension": ".py",
   "mimetype": "text/x-python",
   "name": "python",
   "nbconvert_exporter": "python",
   "pygments_lexer": "ipython3",
   "version": "3.11.0"
  }
 },
 "nbformat": 4,
 "nbformat_minor": 2
}
